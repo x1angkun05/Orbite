{
 "cells": [
  {
   "cell_type": "markdown",
   "id": "continent-observation",
   "metadata": {},
   "source": [
    "# Projet : Gravitation et orbites"
   ]
  },
  {
   "cell_type": "markdown",
   "id": "logical-management",
   "metadata": {},
   "source": [
    "![Image d'un planétaire, par Birmingham Museums Trust](orrery.jpg)\n",
    "\n",
    "Dans ce projet, vous allez étudier la physique des orbites des planètes, dont des exoplanètes. À l'échelle du système solaire, le comportement des corps célestes se décrit, à une très bonne approximation, par les lois de Newton (chapitre 2, section 3 des notes de cours) et par la force gravitationnelle (chapitre 2, section 8.1 des NoC). Avec cette liste courte de principes et d'équations, on peut, en principe, décrire avec précision l'évolution temporelle du système -- c'est-à-dire, les orbites des planètes. Cependant, des résolutions analytiques des systèmes à plusieurs corps s'avèrent difficiles, voire impossibles. On a recours, donc, à une résolution numérique.\n",
    "\n",
    "Les compétences à acquérir sont les suivantes :\n",
    "\n",
    "+ La physique des forces, la gravitation, les lois de Newton.\n",
    "+ La manipulation des vecteurs.\n",
    "+ Les changements d'unités.\n",
    "+ L'analyse des données, l'ajustement d'un modèle linéaire aux données.\n",
    "+ La résolution d'un problème par la méthode numérique d'itération.\n",
    "+ Une compréhension des limites de la méthode, et comment évaluer son domaine de validité."
   ]
  },
  {
   "cell_type": "markdown",
   "id": "engaged-seating",
   "metadata": {},
   "source": [
    "---"
   ]
  },
  {
   "cell_type": "markdown",
   "id": "orange-messenger",
   "metadata": {},
   "source": [
    "# 1. Introduction : Les exoplanetes, et la troisième loi de Kepler\n",
    "\n",
    "L'astronome Kepler a identifié trois lois décrivant les orbites des planètes autour d'un astre, dont la troisième est la suivante :\n",
    "$$\\left( \\frac{2\\pi}{P} \\right)^2 \\, a^3 = k$$\n",
    "où\n",
    "$P$ est la période de révolution (techniquement, la période sidérale) de la planète,\n",
    "$a$ est le demi-grand axe de la trajectoire elliptique de la planète, et\n",
    "$k$ est une constante.\n",
    "\n",
    "Newton a montré que la constante $k$ est donnée par la formule suivante :\n",
    "$$k = \\mathcal{G} (M+m) \\approx \\mathcal{G} M$$\n",
    "où\n",
    "$m$ est la masse de la planète,\n",
    "$M$ est la masse de l'astre, et\n",
    "$\\mathcal{G}$ est la constante gravitationnelle : $\\mathcal{G} = 6,674 \\times 10^{-11} \\, \\mathrm{m}^3 \\, \\mathrm{kg}^{-1} \\, \\mathrm{s}^{-2}$.\n",
    "L'approximation $\\mathcal{G}(M+m) \\approx \\mathcal{G}M$ est valable dans la limite où la masse de l'astre est grande devant celle de la planète. Dans cette limite, la valeur de $k$ est identique pour toutes les planètes d'un système solaire.\n",
    "\n",
    "Kepler étudiait notre système solaire, mais ses lois doivent s'appliquer plus largement.\n",
    "La NASA a rassemblé [une base de données d'observations d'exoplanètes](https://exoplanetarchive.ipac.caltech.edu/cgi-bin/TblView/nph-tblView?app=ExoTbls&config=PS),\n",
    "c'est-à-dire des planètes se situant dans des systèmes solaires autres que le nôtre.\n",
    "Dans le fichier ```nasa-exoplanetes.csv```, vous trouverez une fraction de ces données, dans un format adapté à la lecture par un code python.\n",
    "Les données se regroupent sous la forme de quatre colonnes et plusieurs rangées (lignes).\n",
    "Ces quatres colonnes représentent :\n",
    "\n",
    "1. la période de l'orbite de la planète, $P$, en jours ;\n",
    "2. le demi-[grand axe](https://fr.wikipedia.org/wiki/Grand_axe) de la trajectoire, $a$, en au ([unités astronomique](https://fr.wikipedia.org/wiki/Unit%C3%A9_astronomique)) ;\n",
    "3. la masse de la planète, $m$, en unités de [masses terrestres](https://fr.wikipedia.org/wiki/Masse_terrestre_(unit%C3%A9)) (1 $M_T$ = la masse de la Terre) ;\n",
    "4. la masse de l'astre, $M$, en unités de [masses solaires](https://fr.wikipedia.org/wiki/Masse_solaire) (1 $M_S$ = la masse du Soleil).\n",
    "\n",
    "Dans cette première partie, nous allons lire et étudier ces données afin de tester la théorie de Kepler.\n",
    "\n",
    "### Étape 1 : lecture du fichier\n",
    "\n",
    "[Q1] En utilisant ```numpy```, lire le contenu du fichier CSV et stocker le dans un tableau (array) bidimensionnel que vous appelerez `fiche`.\n",
    "(Par exemple, la méthode ```numpy.loadtxt()``` permettrait d'obtenir un tel tableau.)"
   ]
  },
  {
   "cell_type": "code",
   "execution_count": 14,
   "id": "patient-silly",
   "metadata": {},
   "outputs": [
    {
     "name": "stdout",
     "output_type": "stream",
     "text": [
      "[[3.26030000e+02 1.29000000e+00 6.16560000e+03 2.70000000e+00]\n",
      " [5.16220000e+02 1.54000000e+00 3.33707000e+03 1.80000000e+00]\n",
      " [1.85840000e+02 8.30000000e-01 1.52550000e+03 2.20000000e+00]\n",
      " [1.76641000e+03 2.83000000e+00 1.54146777e+03 9.70000000e-01]\n",
      " [7.99450000e+02 1.67600000e+00 5.56835370e+02 9.80000000e-01]\n",
      " [9.93300000e+02 2.60000000e+00 3.27350000e+03 2.30000000e+00]\n",
      " [3.03506000e+01 1.90000000e-01 2.89225300e+02 9.90000000e-01]\n",
      " [4.52800000e+02 1.33300000e+00 6.32460000e+02 1.54000000e+00]\n",
      " [8.83000000e+02 2.08000000e+00 2.73320000e+02 1.54000000e+00]\n",
      " [4.16000000e+02 9.20000000e-01 6.03877000e+02 4.80000000e-01]\n",
      " [3.35100000e+02 9.95000000e-01 3.14003000e+03 1.16000000e+00]\n",
      " [2.69300000e+02 8.70000000e-01 2.25650000e+03 1.23000000e+00]\n",
      " [4.79100000e+02 1.19000000e+00 1.23313000e+03 9.80000000e-01]\n",
      " [1.07660000e+03 2.05900000e+00 7.74865660e+02 1.01000000e+00]\n",
      " [2.28700000e+03 3.40400000e+00 1.57960720e+02 1.01000000e+00]\n",
      " [4.23078500e+00 5.27000000e-02 1.50009000e+02 1.03000000e+00]\n",
      " [1.46516000e+01 1.13400000e-01 2.55400000e+02 9.10000000e-01]\n",
      " [4.43800000e+01 2.37000000e-01 5.24400000e+01 9.00000000e-01]]\n"
     ]
    }
   ],
   "source": [
    "import numpy as np\n",
    "fiche=np.loadtxt(\"nasa-exoplanetes.csv\",delimiter=\",\")\n",
    "print(fiche)"
   ]
  },
  {
   "cell_type": "markdown",
   "id": "facial-technology",
   "metadata": {},
   "source": [
    "### Étape 2 : calcul\n",
    "\n",
    "Ensuite, nous allons traiter les données, une ligne à la fois.\n",
    "Pour ce faire, il vous faudra une boucle `for`.\n",
    "**Pour chaque planète** (chaque ligne du tableau) :\n",
    "\n",
    "+ [Q2] Extraire les paramètres $P$, $a$, $m$, et $M$.\n",
    "+ [Q3] Calculer la valeur de $f = \\frac{a^3}{P^2 M}$ et imprimer sa valeur sous une forme semblable à la suivante :\n",
    "```La valeur de f de la [...]ième planète est [...] au^3 jour^-2 MS^-1```\n",
    "(où vous remplacerez les ```[...]``` par des chiffres). Stocker cette valeur dans un array."
   ]
  },
  {
   "cell_type": "code",
   "execution_count": 45,
   "id": "conditional-prefix",
   "metadata": {},
   "outputs": [
    {
     "name": "stdout",
     "output_type": "stream",
     "text": [
      "pour le  1 ième planète,P= 326.03 ,a= 1.29 ,m= 6165.6 ,M= 2.7\n",
      "pour le  2 ième planète,P= 516.22 ,a= 1.54 ,m= 3337.07 ,M= 1.8\n",
      "pour le  3 ième planète,P= 185.84 ,a= 0.83 ,m= 1525.5 ,M= 2.2\n",
      "pour le  4 ième planète,P= 1766.41 ,a= 2.83 ,m= 1541.46777 ,M= 0.97\n",
      "pour le  5 ième planète,P= 799.45 ,a= 1.676 ,m= 556.83537 ,M= 0.98\n",
      "pour le  6 ième planète,P= 993.3 ,a= 2.6 ,m= 3273.5 ,M= 2.3\n",
      "pour le  7 ième planète,P= 30.3506 ,a= 0.19 ,m= 289.2253 ,M= 0.99\n",
      "pour le  8 ième planète,P= 452.8 ,a= 1.333 ,m= 632.46 ,M= 1.54\n",
      "pour le  9 ième planète,P= 883.0 ,a= 2.08 ,m= 273.32 ,M= 1.54\n",
      "pour le  10 ième planète,P= 416.0 ,a= 0.92 ,m= 603.877 ,M= 0.48\n",
      "pour le  11 ième planète,P= 335.1 ,a= 0.995 ,m= 3140.03 ,M= 1.16\n",
      "pour le  12 ième planète,P= 269.3 ,a= 0.87 ,m= 2256.5 ,M= 1.23\n",
      "pour le  13 ième planète,P= 479.1 ,a= 1.19 ,m= 1233.13 ,M= 0.98\n",
      "pour le  14 ième planète,P= 1076.6 ,a= 2.059 ,m= 774.86566 ,M= 1.01\n",
      "pour le  15 ième planète,P= 2287.0 ,a= 3.404 ,m= 157.96072 ,M= 1.01\n",
      "pour le  16 ième planète,P= 4.230785 ,a= 0.0527 ,m= 150.009 ,M= 1.03\n",
      "pour le  17 ième planète,P= 14.6516 ,a= 0.1134 ,m= 255.4 ,M= 0.91\n",
      "pour le  18 ième planète,P= 44.38 ,a= 0.237 ,m= 52.44 ,M= 0.9\n",
      "La valeur de f de la  1 ième planète est 7.479804361237443e-06 au^3 jour^-2 MS^-1\n",
      "La valeur de f de la  2 ième planète est 7.6141250378707166e-06 au^3 jour^-2 MS^-1\n",
      "La valeur de f de la  3 ième planète est 7.525462617103386e-06 au^3 jour^-2 MS^-1\n",
      "La valeur de f de la  4 ième planète est 7.488667410035809e-06 au^3 jour^-2 MS^-1\n",
      "La valeur de f de la  5 ième planète est 7.516460049253657e-06 au^3 jour^-2 MS^-1\n",
      "La valeur de f de la  6 ième planète est 7.74517681881957e-06 au^3 jour^-2 MS^-1\n",
      "La valeur de f de la  7 ième planète est 7.521267693499806e-06 au^3 jour^-2 MS^-1\n",
      "La valeur de f de la  8 ième planète est 7.5016516128901155e-06 au^3 jour^-2 MS^-1\n",
      "La valeur de f de la  9 ième planète est 7.494589959136721e-06 au^3 jour^-2 MS^-1\n",
      "La valeur de f de la  10 ième planète est 9.374229536489154e-06 au^3 jour^-2 MS^-1\n",
      "La valeur de f de la  11 ième planète est 7.5624479288266e-06 au^3 jour^-2 MS^-1\n",
      "La valeur de f de la  12 ième planète est 7.382100265489048e-06 au^3 jour^-2 MS^-1\n",
      "La valeur de f de la  13 ième planète est 7.491391032227031e-06 au^3 jour^-2 MS^-1\n",
      "La valeur de f de la  14 ième planète est 7.456566838677783e-06 au^3 jour^-2 MS^-1\n",
      "La valeur de f de la  15 ième planète est 7.466463583606955e-06 au^3 jour^-2 MS^-1\n",
      "La valeur de f de la  16 ième planète est 7.938760663413883e-06 au^3 jour^-2 MS^-1\n",
      "La valeur de f de la  17 ième planète est 7.464963080781758e-06 au^3 jour^-2 MS^-1\n",
      "La valeur de f de la  18 ième planète est 7.509792421182862e-06 au^3 jour^-2 MS^-1\n",
      "[7.479804361237443e-06, 7.6141250378707166e-06, 7.525462617103386e-06, 7.488667410035809e-06, 7.516460049253657e-06, 7.74517681881957e-06, 7.521267693499806e-06, 7.5016516128901155e-06, 7.494589959136721e-06, 9.374229536489154e-06, 7.5624479288266e-06, 7.382100265489048e-06, 7.491391032227031e-06, 7.456566838677783e-06, 7.466463583606955e-06, 7.938760663413883e-06, 7.464963080781758e-06, 7.509792421182862e-06]\n"
     ]
    }
   ],
   "source": [
    "# [votre code ici pour Q2]\n",
    "n=len(fiche)\n",
    "for i in range(n):\n",
    "    P=fiche[i][0]\n",
    "    a=fiche[i][1]\n",
    "    m=fiche[i][2]\n",
    "    M=fiche[i][3]\n",
    "    print(\"pour le \",i+1,\"ième planète,P=\",P,\",a=\",a,\",m=\",m,\",M=\",M)\n",
    "# [votre code ici pour Q3, utilisant une boucle 'for']\n",
    "import numpy as np\n",
    "valeur_f=[]\n",
    "for i in range(n):\n",
    "    P=fiche[i][0]\n",
    "    a=fiche[i][1]\n",
    "    m=fiche[i][2]\n",
    "    M=fiche[i][3]\n",
    "    f=a**3/((P**2)*M)\n",
    "    valeur_f += [f]\n",
    "    print(\"La valeur de f de la \",i+1,\"ième planète est\",f,\"au^3 jour^-2 MS^-1\")\n",
    "print(valeur_f)"
   ]
  },
  {
   "cell_type": "markdown",
   "id": "soviet-charles",
   "metadata": {},
   "source": [
    "[Q4] Que constatez-vous ?"
   ]
  },
  {
   "cell_type": "markdown",
   "id": "insured-joyce",
   "metadata": {},
   "source": [
    "\n",
    "_(vos observations ici)_\n",
    "les valeurs sont presque les mêmes."
   ]
  },
  {
   "cell_type": "markdown",
   "id": "special-oasis",
   "metadata": {},
   "source": [
    "[Q5] Calculer la moyenne et l'écart-type de l'ensemble de vos valeurs de $f$\n",
    "(en utilisant ```numpy.mean()``` et ```numpy.std()``` ou autrement)."
   ]
  },
  {
   "cell_type": "code",
   "execution_count": 16,
   "id": "innocent-spotlight",
   "metadata": {},
   "outputs": [
    {
     "name": "stdout",
     "output_type": "stream",
     "text": [
      "7.640773383919017e-06\n",
      "4.375324460955931e-07\n"
     ]
    }
   ],
   "source": [
    "# [votre code ici pour Q5]\n",
    "array_f=np.array(valeur_f)\n",
    "a=np.mean(array_f)\n",
    "b=np.std(array_f)\n",
    "print(a)\n",
    "print(b)"
   ]
  },
  {
   "cell_type": "markdown",
   "id": "searching-cameroon",
   "metadata": {},
   "source": [
    "### Étape 3 : graphique\n",
    "\n",
    "Il convient de visualiser des données sous forme d'un graphique.\n",
    "\n",
    "[Q6] Pour chaque planète, calculer les deux quantités suivantes. Stockez-les dans des arrays (un array pour les $x$, un autre pour les $y$).\n",
    "\n",
    "+ les abscisses $x = P^2 M$\n",
    "+ les ordonnées $y = a^3$\n",
    "\n",
    "et puis tracer un nuage de points (en utilisant ```matplotlib.pyplot.scatter()``` ou autrement). N'oubliez pas d'ajouter un titre et nommer vos axes (avec les bonnes unités)."
   ]
  },
  {
   "cell_type": "code",
   "execution_count": 17,
   "id": "confidential-yukon",
   "metadata": {},
   "outputs": [
    {
     "name": "stdout",
     "output_type": "stream",
     "text": [
      "[2.86998014e+05 4.79669559e+05 7.59803123e+04 3.02659816e+06\n",
      " 6.26337896e+05 2.26928325e+06 9.11947331e+02 3.15742874e+05\n",
      " 1.20072106e+06 8.30668800e+04 1.30258732e+05 8.92026627e+04\n",
      " 2.24946074e+05 1.17065824e+06 5.28267269e+06 1.84365280e+01\n",
      " 1.95349138e+02 1.77262596e+03]\n",
      "[2.14668900e+00 3.65226400e+00 5.71787000e-01 2.26651870e+01\n",
      " 4.70784378e+00 1.75760000e+01 6.85900000e-03 2.36859304e+00\n",
      " 8.99891200e+00 7.78688000e-01 9.85074875e-01 6.58503000e-01\n",
      " 1.68515900e+00 8.72909138e+00 3.94428833e+01 1.46363183e-04\n",
      " 1.45827410e-03 1.33120530e-02]\n"
     ]
    },
    {
     "data": {
      "image/png": "[encoded data removed]",
      "text/plain": [
       "<Figure size 640x480 with 1 Axes>"
      ]
     },
     "metadata": {},
     "output_type": "display_data"
    }
   ],
   "source": [
    "# [votre code ici pour Q6]\n",
    "import numpy as np\n",
    "valeur_x=[]\n",
    "valeur_y=[]\n",
    "n=len(fiche)\n",
    "for i in range(n):\n",
    "    P=fiche[i][0]\n",
    "    a=fiche[i][1]\n",
    "    m=fiche[i][2]\n",
    "    M=fiche[i][3]\n",
    "    x=P**2*M\n",
    "    y=a**3\n",
    "    valeur_x += [x]\n",
    "    valeur_y += [y]\n",
    "Xarray=np.array(valeur_x)\n",
    "Yarray=np.array(valeur_y)\n",
    "print(Xarray)\n",
    "print(Yarray)\n",
    "\n",
    "import matplotlib.pyplot as plt\n",
    "plt.scatter(valeur_x,valeur_y,color=\"blue\")\n",
    "plt.title(\" la relation entre x et y pour toutes planète\")\n",
    "plt.xlabel(\"x\")\n",
    "plt.ylabel(\"y\")\n",
    "plt.show()"
   ]
  },
  {
   "cell_type": "markdown",
   "id": "inclusive-florence",
   "metadata": {},
   "source": [
    "### Étape 4 : ajustement et interpretation\n",
    "\n",
    "[Q7] Effectuer un ajustement linéaire aux données (avec ```numpy.polyfit()``` ou autrement).\n",
    "Dessiner un graphique incluant la fonction ajustée et les données (sous forme d'un nuage de points)."
   ]
  },
  {
   "cell_type": "code",
   "execution_count": 18,
   "id": "capital-education",
   "metadata": {},
   "outputs": [
    {
     "data": {
      "image/png": "[encoded data removed]",
      "text/plain": [
       "<Figure size 640x480 with 1 Axes>"
      ]
     },
     "metadata": {},
     "output_type": "display_data"
    }
   ],
   "source": [
    "# [votre code ici pour Q7]\n",
    "import numpy as np\n",
    "import matplotlib.pyplot as plt\n",
    "coefficients = np.polyfit(valeur_x,valeur_y,1)\n",
    "a,b=coefficients\n",
    "y_fit=a*Xarray+b\n",
    "plt.plot(Xarray,y_fit,label=\"fonction ajustée\",color=\"green\")\n",
    "plt.scatter(Xarray,valeur_y,label=\"données\",color=\"blue\")\n",
    "plt.title(\"la fonction ajustée et les données\")\n",
    "plt.xlabel(\"x\")\n",
    "plt.ylabel(\"y\")\n",
    "plt.legend()\n",
    "plt.show()"
   ]
  },
  {
   "cell_type": "markdown",
   "id": "frequent-today",
   "metadata": {},
   "source": [
    "[Q8] Commenter l'ajustement. (Les données, sont-elles cohérentes avec la fonction ?)\n",
    "\n",
    "[Q9] Selon la loi de Kepler, la droite passe par l'origine. Est-ce bien le cas ? (L'ordonnée à l'origine, est-elle cohérente avec zéro ?) Que vaut le coefficient directeur de la droite ? Est-il cohérent avec la moyenne calculée précédemment ?"
   ]
  },
  {
   "cell_type": "markdown",
   "id": "persistent-africa",
   "metadata": {},
   "source": [
    "(vos observations ici pour Q8 et Q9)_\n",
    "Q8:Les données ont été fournies et l'ajustement q été effectué à l'qide de polyfit, où la méthode des moindres carrés a été utilisée\n",
    "Q9:Non, car en réalité, le m ne peut pas être ignoré, donc y=(G*M*P**2+Gm*P**2)/(2*pi)**2.L'ordonnée à l'origine n'est pas 0 \".lecoefficient directeur est G/(2*pi)**2 et il est même que la moyenne cqlculée précéedemment,"
   ]
  },
  {
   "cell_type": "markdown",
   "id": "beginning-bridal",
   "metadata": {},
   "source": [
    "**Pour aller plus loin :** [Q10] Le coefficient directeur de la droite, est-il cohérent avec la théorie ?\n",
    " * Attention, cette question Q10 nécessite un peu de travail. Les équations de l'introduction ci-dessus permettent de determiner la valeur théorique, en fonction de constantes connues (G et pi). Cependant, G s'exprime en unités SI ($\\mathrm{m}^3~\\mathrm{kg}^{-1}~\\mathrm{s}^{-1}$), mais le coefficient directeur s'exprime en d'autres unités (au, jours, masses solaires). Il faudra passer d'un système d'unités à l'autre. Pour ce faire, posez-vous les questions suivantes : Combien de mètres vaut 1au (une unité astronomique) ? Combien de s vaut un jour ? Combien de kg vaut la masse solaire $M_S$ ?"
   ]
  },
  {
   "cell_type": "code",
   "execution_count": 37,
   "id": "satellite-tribute",
   "metadata": {},
   "outputs": [
    {
     "name": "stdout",
     "output_type": "stream",
     "text": [
      "La valeur ajustée du coefficient directeur, D, est  7.4931744103594205e-06 au^3 jour^-1 MS^-1 =  1.7023899904886984e-12 m^3 s^-2 kg^-1\n",
      "La valeur calculée de la constante gravitationnelle, G = D*(2pi)^2, est  6.720754943427013e-11 m^3 s^-2 kg^-1\n",
      "La valeur théorique de cette constante est  0.6674  le difiierence n'est pas très grand ,donc on peut penser que ils sont cohérent\n"
     ]
    }
   ],
   "source": [
    "# [votre code ici pour Q10]\n",
    "import math \n",
    "unites_m_par_AU = 1.50e11\n",
    "unites_s_par_jour = 8.64e4\n",
    "unites_kg_par_MS = 1.99e30\n",
    "\n",
    "tmpKeplerValeurEnAUJourMS = coefficients[0]\n",
    "unites_facteur = (unites_m_par_AU**3) * (unites_s_par_jour**(-2)) * (unites_kg_par_MS**(-1))\n",
    "tmpKeplerValeurEnSI = tmpKeplerValeurEnAUJourMS * unites_facteur\n",
    "tmpKeplarValeur_G_EnSi = tmpKeplerValeurEnSI * ( (2.0 * 3.14159)**2 ) \n",
    "print(\"La valeur ajustée du coefficient directeur, D, est \", tmpKeplerValeurEnAUJourMS, \"au^3 jour^-1 MS^-1 = \", tmpKeplerValeurEnSI, \"m^3 s^-2 kg^-1\")\n",
    "print(\"La valeur calculée de la constante gravitationnelle, G = D*(2pi)^2, est \", tmpKeplarValeur_G_EnSi, \"m^3 s^-2 kg^-1\")\n",
    "tmpG = 6.674e-1\n",
    "print(\"La valeur théorique de cette constante est \", tmpG, \" le difiierence n'est pas très grand ,donc on peut penser que ils sont cohérent\")"
   ]
  },
  {
   "cell_type": "markdown",
   "id": "chemical-viewer",
   "metadata": {},
   "source": [
    "_(vos observations ici pour Q10)_"
   ]
  },
  {
   "cell_type": "markdown",
   "id": "muslim-vienna",
   "metadata": {},
   "source": [
    "---"
   ]
  },
  {
   "cell_type": "markdown",
   "id": "simple-saturday",
   "metadata": {},
   "source": [
    "# 2. Modélisation simple d'un système simple\n",
    "\n",
    "## 2.1 : Introduction\n",
    "\n",
    "Rappelons la loi de Newton (le principe fondamental de la dynamique):\n",
    "$$m_{\\mathrm{tot}} \\frac{\\mathrm{d}\\vec{v}_C}{\\mathrm{d}t} = \\vec{F}_{\\mathrm{tot}}$$\n",
    "où\n",
    "$m_{\\mathrm{tot}}$ est la masse totale d'un système,  \n",
    "$\\vec{v}_C$ est la vitesse (vectorielle) du centre de masse $C$ du système, et  \n",
    "$\\vec{F}_{\\mathrm{tot}}$ est la résultante des forces extérieures qui s'appliquent sur le système.\n",
    "\n",
    "Rappelons également comment calculer la force gravitationnelle entre deux corps :\n",
    "$$\\vec{F}_{A\\to B} = -\\mathcal{G} \\frac{m_A m_B}{||\\vec{AB}||^2} \\vec{u}_{AB}$$\n",
    "où\n",
    "$\\vec{F}_{A\\to B}$ est la force exercé par un corps (ou un système d'objets) $A$ de masse $m_A$ sur un corps $B$ de masse $m_B$,  \n",
    "$\\vec{AB}$ est la distance vectorielle entre les centres de masse des deux corps,  \n",
    "$\\mathcal{G}$ est la constante gravitationnelle,  et\n",
    "$\\vec{u}_{AB}$ est le vecteur unitaire de la distance entre les deux corps :\n",
    "$$\\vec{u}_{AB} = \\frac{\\vec{AB}}{||\\vec{AB}||}$$\n",
    "\n",
    "Nous allons mettre en oeuvre une résolution numérique de ces équations.\n",
    "Nous étudierons d'abord des systèmes suffisamment simples qu'ils permettent\n",
    "aussi des résolutions _analytiques_. L'intérêt est de comparer les deux approches\n",
    "afin de valider l'approche numérique et de comprendre ses limites.\n",
    "\n",
    "![Illustration des vecteurs](fig-vecteurs-1.png)\n",
    "\n",
    "Vous trouverez ci-dessus une illustration des vecteurs pour les deux corps A et B.\n",
    "Noter que les deux forces $\\vec{F}_{A\\to B}$ et $\\vec{F}_{B\\to A}$ sont de normes\n",
    "identiques mais de sens opposés ; dans le cas de la gravitation, elles dirigent\n",
    "A vers B et, inversement, B vers A. Noter en plus que nous n'avons à aucun point\n",
    "indiqué les vitesses des deux corps, car les forces gravitationnelles ne dépendent pas d'eux\n",
    "(s'expriment uniquement en fonction des masses et de la distance vectorielle $\\vec{AB}$).\n",
    "Par exemple, voici **une configuration possible** des vecteurs vitesses $\\vec{v}_A$ et $\\vec{v}_B$ :\n",
    "\n",
    "![Illustration des vecteurs](fig-vecteurs-2.png)"
   ]
  },
  {
   "cell_type": "markdown",
   "id": "instant-population",
   "metadata": {},
   "source": [
    "## 2.2 : Calculer la distance et la force entre deux corps\n",
    "\n",
    "Un vecteur en trois dimensions, par exemple la vitesse du corps $A$, peut se représenter sous la forme de trois nombres.\n",
    "Dans ce projet, nous utiliserons les coordonnées cartésiennes $\\vec{x} = (x,y,z)$, et nous représenterons des vecteurs en python par des objets `numpy.array`.\n",
    "\n",
    "Nous aurons besoin, à plusieurs reprises, de calculer la distance vectorielle (vecteur déplacement) entre deux points, et d'en déduire sa norme et sa direction. Par exemple :"
   ]
  },
  {
   "cell_type": "code",
   "execution_count": 20,
   "id": "elder-template",
   "metadata": {},
   "outputs": [],
   "source": [
    "import numpy\n",
    "import math\n",
    "\n",
    "# Nous définissons deux vecteurs, qui répresentent des positions de deux objets :\n",
    "exempleVecA = numpy.array([0.0, 0.0, 1.0]) # en mètres\n",
    "exempleVecB = numpy.array([0.0, 2.0, 1.0]) # en mètres\n",
    "\n",
    "# Nous calculons le vecteur déplacement :\n",
    "exempleVecDiff = exempleVecB - exempleVecA # en mètres\n",
    "# Le produit scalaire de cette différence avec elle-même (la magnitude au carré) :\n",
    "exempleVecDiffMagCarre = exempleVecDiff.dot(exempleVecDiff) # en m^2\n",
    "# La magnitude :\n",
    "exempleVecDiffMag = math.sqrt(exempleVecDiffMagCarre) # en mètres\n",
    "# Le vecteur unitaire associé :\n",
    "exempleVecDiffUnitaire = exempleVecDiff / exempleVecDiffMag # sans unités"
   ]
  },
  {
   "cell_type": "markdown",
   "id": "governing-serial",
   "metadata": {},
   "source": [
    "[Q11] Muni de ces outils, écrire une fonction python qui calcule la force vectorielle entre deux corps A et B, dont les positions sont `xA` et `xB` (deux objets de type numpy.array), et dont les masses sont `mA` et `mB`. La force étant un vecteur, la fonction doit renvoyer un numpy.array. Vous pouvez utiliser la trame suivante :\n",
    "\n",
    "```python\n",
    "def forceGravitationnelle(xA, xB, mA, mB):\n",
    "    # votre code ici\n",
    "    F = [...] # vous calculez la force\n",
    "    return F\n",
    "```"
   ]
  },
  {
   "cell_type": "code",
   "execution_count": 21,
   "id": "particular-lesson",
   "metadata": {},
   "outputs": [],
   "source": [
    "# [votre code ici pour Q11]\n",
    "def forceGravitationnelle(xA, xB, mA, mB):\n",
    "    G=6.674e-11\n",
    "    vecteur_AB=xB-xA\n",
    "    vecteur_ABMagCarre = vecteur_AB.dot(vecteur_AB)\n",
    "    vecteur_ABMag = math.sqrt(vecteur_ABMagCarre)\n",
    "    vecteur_ABUnitaire = vecteur_AB / vecteur_ABMag\n",
    "    F= (-G*mA*mB / vecteur_ABMagCarre)*vecteur_ABUnitaire\n",
    "    return F"
   ]
  },
  {
   "cell_type": "markdown",
   "id": "radical-purchase",
   "metadata": {},
   "source": [
    "Il est une bonne pratique de tester et de vérifier le code que l'on vient d'écrire. Dans l'exemple ci-dessus, nous avons défini deux objets séparés d'une distance de deux mètres dans la direction $+y$. Soient leurs masses 1kg. On peut calculer la norme de la force (on obtient $1,6685 \\times 10^{-11} \\, \\mathrm{kg} \\, \\mathrm{m} \\, \\mathrm{s}^{-2}$).\n",
    "Et l'orientation ? $\\vec{F}_{A\\to B}$ est la force exercé par A sur B, c'est-à-dire la force subie par B ; la force gravitationnelle étant attractive, elle va diriger B vers A, donc dans la direction $-y$, c'est-à-dire $(0, -1, 0)$. Est-ce bien le cas ? Le code ci-dessous effectuera ce test (après que vous avez défini la fonction `forceGravitationelle` dans la Q11 ; si vous avez choisi un autre nom, il faudrait faire une modification correspondante) :"
   ]
  },
  {
   "cell_type": "markdown",
   "id": "interior-connectivity",
   "metadata": {},
   "source": [
    "```python\n",
    "exempleForce = forceGravitationnelle(exempleVecA, exempleVecB, 1.0, 1.0)\n",
    "exempleForceMagnitude = math.sqrt(exempleForce.dot(exempleForce))\n",
    "print(\"La force est\", exempleForce, \"kg m s^{-2}.\")\n",
    "print(\"Sa magnitude vaut \", exempleForceMagnitude, \"kg m s^{-2}\")\n",
    "print(\"Son vecteur unitaire est\", exempleForce/exempleForceMagnitude)\n",
    "```"
   ]
  },
  {
   "cell_type": "markdown",
   "id": "south-lingerie",
   "metadata": {},
   "source": [
    "[Q12] Ajouter ces lignes de code et effectuer ce test. Si tout est correct, le résultat de ce test simple devrait se ressembler à la suivante :\n",
    "\n",
    "```\n",
    "La force est [-0.0000e+00 -1.6685e-11 -0.0000e+00] kg m s^{-2}.\n",
    "Sa magnitude vaut  1.6685e-11 kg m s^{-2}\n",
    "Son vecteur unitaire est [-0. -1. -0.]\n",
    "```"
   ]
  },
  {
   "cell_type": "code",
   "execution_count": 22,
   "id": "focused-priority",
   "metadata": {},
   "outputs": [
    {
     "name": "stdout",
     "output_type": "stream",
     "text": [
      "La force est [-0.0000e+00 -1.6685e-11 -0.0000e+00] kg m s^{-2}.\n",
      "Sa magnitude vaut  1.6685e-11 kg m s^{-2}\n",
      "Son vecteur unitaire est [-0. -1. -0.]\n"
     ]
    }
   ],
   "source": [
    "# [votre code ici pour Q12]\n",
    "import numpy\n",
    "import math\n",
    "exempleVecA=numpy.array([0.0, 0.0, 0.0])\n",
    "exempleVecB=numpy.array([0.0,1.0,0.0])\n",
    "exempleForce = forceGravitationnelle(2*exempleVecA, 2*exempleVecB, 1.0, 1.0)\n",
    "exempleForceMagnitude = math.sqrt(exempleForce.dot(exempleForce))\n",
    "print(\"La force est\", exempleForce, \"kg m s^{-2}.\")\n",
    "print(\"Sa magnitude vaut \", exempleForceMagnitude, \"kg m s^{-2}\")\n",
    "print(\"Son vecteur unitaire est\", exempleForce/exempleForceMagnitude)"
   ]
  },
  {
   "cell_type": "markdown",
   "id": "protected-approach",
   "metadata": {},
   "source": [
    "## 2.3 : Premier jet : un champ gravitationnel statique\n",
    "\n",
    "Ayant écrit et testé ces outils, nous pouvons ensuite simuler un système plus intéressant !\n",
    "On considère un système constitué du Soleil (corps A) et de la Terre (corps B).\n",
    "Nous souhaitons modéliser le trajet de la Terre autour du Soleil.\n",
    "Dans ce premier exercice, le Soleil est supposé fixe et immobile à l'origine.\n",
    "\n",
    "La masse du Soleil vaut $1,9885 \\times 10^{30} \\, \\mathrm{kg}$.\n",
    "La masse de la Terre vaut $5,972 \\times 10^{24} \\, \\mathrm{kg}$."
   ]
  },
  {
   "cell_type": "markdown",
   "id": "corresponding-paintball",
   "metadata": {},
   "source": [
    "### Exercice : calculer la force subie par la Terre\n",
    "\n",
    "À t=0 (c'est-à-dire dans les conditions initialles), la Terre se trouve à une distance \n",
    "$d_0 = 149 \\, 596 \\, 006 \\, \\mathrm{km}$\n",
    "du Soleil.\n",
    "On place la Terre à $x_B = (d_0, 0, 0)$. Le soleil est forcément à $x_A = (0,0,0)$.\n",
    "\n",
    "[Q13] Utiliser votre fonction pour évaluer la force gravitationnelle (vectorielle) subie par la Terre à cet instant, en unités SI."
   ]
  },
  {
   "cell_type": "code",
   "execution_count": 23,
   "id": "sixth-inflation",
   "metadata": {},
   "outputs": [
    {
     "name": "stdout",
     "output_type": "stream",
     "text": [
      "Dans le cas d'une orbite circulaire de durée d'un an, r = 149596005905.28522 metres et v = 29784.883080995933 m/s\n"
     ]
    }
   ],
   "source": [
    "# [votre code ici pour Q13]\n",
    "mSoleil = 1.9885e+30 # en kg\n",
    "time = 365.25 * 24.0 * 3600.0 # en s\n",
    "G = 6.674e-11\n",
    "omegaCube = 2.0 * math.pi * G * mSoleil / time\n",
    "omega = omegaCube ** (1.0/3.0)\n",
    "Rayon = G * mSoleil / (omega*omega)\n",
    "print(\"Dans le cas d'une orbite circulaire de durée d'un an, r =\", Rayon, \"metres et v =\", omega, \"m/s\")"
   ]
  },
  {
   "cell_type": "markdown",
   "id": "headed-calcium",
   "metadata": {},
   "source": [
    "[Q14] Ensuite, faites le calcul vous-même (sur papier, ou avec une calculatrice) et vérifiez que vos deux valeurs sont cohérentes."
   ]
  },
  {
   "cell_type": "markdown",
   "id": "systematic-collection",
   "metadata": {},
   "source": [
    "_(vos observations ici pour Q14)_\n",
    "il est cohérentes."
   ]
  },
  {
   "cell_type": "markdown",
   "id": "palestinian-onion",
   "metadata": {},
   "source": [
    "## 2.4 : L'évolution du système\n",
    "\n",
    "Mais la Terre ne va pas rester à cette position initiale : elle se déplace ! Nous calculerons son trajet en suivant une approche numérique itérative, en faisant une série de calculs par pas de temps $dt$."
   ]
  },
  {
   "cell_type": "markdown",
   "id": "genetic-election",
   "metadata": {},
   "source": [
    "Supposons que le pas $dt$ soit suffisamment court pour que la réponse du système soit linéaire, c'est-à-dire\n",
    "\n",
    "$$\\vec{x}_B(t + dt) = \\vec{x}_B(t) + d\\vec{x} = \\vec{x}_B(t) + \\vec{v}_B(t) dt$$\n",
    "$$\\vec{v}_B(t + dt) = \\vec{v}_B(t) + d\\vec{v} = \\vec{v}_B(t) + \\vec{a}_B(t) dt$$\n",
    "\n",
    "où $\\vec{x}_B(t)$ est la position de la Terre au temps $t$, $\\vec{v}_B(t)$ est sa vitesse, et $\\vec{a}_B(t)$ est son accéleration.\n",
    "On procède comme suite :\n",
    "\n",
    "- On définie les conditions initiales : les valeurs des paramètres $\\vec{x}_B(t)$ et $\\vec{v}_B(t)$ à $t=0$.\n",
    "- On calcule $\\vec{F}_{A\\to B}(t)$ et ainsi $\\vec{a}_B(t)$ à $t=0$.\n",
    "- Sachant la vitesse et l'accéleration à $t=0$, on calcule les paramètres à $dt$ : $\\vec{x}_B(dt)$ et $\\vec{v}_B(dt)$. On en déduit la force et ainsi l'accéleration à $t=dt$.\n",
    "- Avec ces nouvelles valeurs à $t=dt$, on calcule les paramètres à $t=2dt$.\n",
    "- Avec ces nouvelles valeurs à $t=2dt$, on calcule les paramètres à $t=3dt$.\n",
    "- (etc)\n",
    " \n",
    "Voici une illustration de l'approche (avec un pas plutôt grossier). À chaque point $i=0,1,...,6$, on détermine la position ($\\vec{x}_i$), la vitesse ($\\vec{v}_i$), et la force subie ($\\vec{F}_i$). Notez que, par exemple, on calcule $\\vec{x}_1 = \\vec{x}_0 + \\vec{v}_0 dt$ et non avec une formule trigonométrique.\n",
    "\n",
    "![Illustration des vecteurs](fig-vecteurs-4.png)\n",
    " \n",
    "Ceci est une approche itérative. Parce que nous allons refaire les calculs de nombreuses fois, nous aimerions écrire un bloc de code réutilisable dans des boucles.\n",
    "\n",
    "### Exercice : avancer un pas\n",
    "\n",
    "[Q15] Écrire une fonction qui prend en entrée les valeurs actuelles de `xA`, `xB`, et `vB` et un pas `dt`, qui fait avancer la position et la vitesse de la Terre d'un pas, et qui renvoie les nouvelles valeurs.\n",
    "(Dans ce modèle simplifié, le Soleil reste fixe à l'origine. Parce qu'il ne bouge pas, nous ne précisons pas sa vitesse nulle `vA`.)\n",
    "Vous pouvez utiliser la trame suivante :\n",
    "\n",
    "```\n",
    "def champStatiqueAvanceUnPas(xA, xB, vB, dt):\n",
    "    # votre code ici\n",
    "    nouvelle_xB = [...]\n",
    "    nouvelle_vB = [...]\n",
    "    return nouvelle_xB, nouvelle_vB\n",
    "```\n",
    "\n",
    "Point technique : Python traite des nombres simples (comme `dt`) un peu différemment des objets composés (comme `xB`). Selon la structure de votre code, vous pourriez avoir besoin de créer une nouvelle copie d'un vecteur avant de le manipuler, par exemple :\n",
    "\n",
    "```\n",
    "    dxB = dt * numpy.array(vB)\n",
    "````"
   ]
  },
  {
   "cell_type": "code",
   "execution_count": 24,
   "id": "stuffed-preliminary",
   "metadata": {},
   "outputs": [],
   "source": [
    "# [votre code ici pour Q15]\n",
    "import numpy as np\n",
    "mS=1.9885e+30\n",
    "def forceGravitationnelle(xA, xB, mA, mB):\n",
    "    G=6.674e-11\n",
    "    vecteur_AB=xB-xA\n",
    "    vecteur_ABMagCarre = vecteur_AB.dot(vecteur_AB)\n",
    "    vecteur_ABMag = math.sqrt(vecteur_ABMagCarre)\n",
    "    vecteur_ABUnitaire = vecteur_AB / vecteur_ABMag\n",
    "    F= (-G*mA*mB / vecteur_ABMagCarre)*vecteur_ABUnitaire\n",
    "    return F\n",
    "\n",
    "def champStatiqueAvanceUnPas(xA, xB, vB, dt):\n",
    "    dxB = dt * np.array(vB)\n",
    "    nouvelle_xB = xB + dxB\n",
    "    F = forceGravitationnelle(xA, xB, mS, mT)\n",
    "    aB = F / mT\n",
    "    nouvelle_vB = vB + dt * aB\n",
    "    return nouvelle_xB, nouvelle_vB"
   ]
  },
  {
   "cell_type": "markdown",
   "id": "interracial-smell",
   "metadata": {},
   "source": [
    "[Q16] Ensuite, tester la fonction. Par exemple, avec une vitesse initiale de **29,78 km/s** vers $+y$ et un pas de 1s, on attend que la Terre se déplace d'environ 30km vers $+y$ lors du pas, et que sa vitesse évolue vers le Soleil (vers $-x$).\n",
    "Ajouter un test et vérifier qu'il donne un résultat raisonnable."
   ]
  },
  {
   "cell_type": "code",
   "execution_count": 25,
   "id": "foreign-machinery",
   "metadata": {},
   "outputs": [
    {
     "name": "stdout",
     "output_type": "stream",
     "text": [
      "Avant : xB =  [1.49596006e+11 0.00000000e+00 0.00000000e+00]   ; vB =  [    0. 29780.     0.]  m/s\n",
      "Après : xB =  [1.49596006e+11 2.97800000e+04 0.00000000e+00]   ; vB =  [-5.9302336e-03  2.9780000e+04  0.0000000e+00]  m/s\n"
     ]
    }
   ],
   "source": [
    "# [votre code ici pour Q16]\n",
    "import numpy as np\n",
    "import math\n",
    "mS=1.9885e+30\n",
    "mT = 5.972e+24\n",
    "xA=np.array([0.0,0.0,0.0])\n",
    "xB=np.array([149596005905.28522,0.0,0.0])\n",
    "vB=np.array([0.0,29.78e+3,0.0])\n",
    "dt=1\n",
    "print(\"Avant : xB = \", xB, \"  ; vB = \", vB, \" m/s\")\n",
    "xB2, vB2 = champStatiqueAvanceUnPas(xA, xB, vB, dt)\n",
    "print(\"Après : xB = \", xB2, \"  ; vB = \", vB2, \" m/s\")"
   ]
  },
  {
   "cell_type": "markdown",
   "id": "liquid-above",
   "metadata": {},
   "source": [
    "## 2.5 : Point sur le choix du pas\n",
    "\n",
    "Le pas ($dt$) n'est pas un paramètre physique : il ne correspond pas à une propriété observable du système solaire. En principe, on devrait trouver des résultats semblables pour tout choix _valable_ de dt (c'est-à-dire, pour tout choix qui valide l'hypothèse que l'évolution du système est linéaire pendant l'intervalle $dt$). Cependant, il est un paramètre de notre modèle, et un mauvais choix du pas peut fausser le résultat. En général, on veut que le pas soit le plus court possible.\n",
    "Mais la précision a son prix : plus $dt$ est petit, plus le temps de calcul augmente. Un pas très, très petit peut aussi engendrer des problèmes de précision numérique. Dans ce projet, vous devrez choisir un pas adapté au problème, et étudier l'effet de la variation de sa valeur."
   ]
  },
  {
   "cell_type": "markdown",
   "id": "falling-israeli",
   "metadata": {},
   "source": [
    "#### Exercice : L'orbite de la terre\n",
    "\n",
    "On va maintentant suivre la Terre autour du Soleil. On prend des valeurs initiales suivantes : \n",
    "\n",
    "$$\\vec{x}(t=0) = (d_0, 0, 0)$$\n",
    "$$\\vec{v}(t=0) = (0, v_0, 0)$$\n",
    "où\n",
    "$$d_0 = 149 \\, 596 \\, 006 \\, \\mathrm{km}$$\n",
    "$$v_0 = 29,78 \\, \\mathrm{km} \\, \\mathrm{s}^{-1}$$\n",
    "\n",
    "[Q17] Choisir un pas $dt$, et déterminer le nombre $N$ de pas correspondent à un an. Ensuite, utilisez votre fonction (définie dans la question 15) $N$ fois et déterminer la position de la Terre après un an."
   ]
  },
  {
   "cell_type": "code",
   "execution_count": 31,
   "id": "pressed-citation",
   "metadata": {},
   "outputs": [
    {
     "name": "stdout",
     "output_type": "stream",
     "text": [
      "il faut 315576 fois\n",
      "après un an la position de la Terre est [1.49633190e+11 2.85593182e+08 0.00000000e+00] et la viteness est  [  -56.85068372 29776.21811479     0.        ]\n"
     ]
    }
   ],
   "source": [
    "# [votre code ici pour Q17, à réutiliser ensuite en étudiant les Q19-21]\n",
    "import numpy as np\n",
    "import math\n",
    "\n",
    "mS=1.9885e+30\n",
    "mT = 5.972e+24\n",
    "def forceGravitationnelle(xA, xB, mA, mB):\n",
    "    G=6.674e-11\n",
    "    vecteur_AB=xB-xA\n",
    "    vecteur_ABMagCarre = vecteur_AB.dot(vecteur_AB)\n",
    "    vecteur_ABMag = math.sqrt(vecteur_ABMagCarre)\n",
    "    vecteur_ABUnitaire = vecteur_AB / vecteur_ABMag\n",
    "    F= (-G*mA*mB / vecteur_ABMagCarre)*vecteur_ABUnitaire\n",
    "    return F\n",
    "\n",
    "def champStatiqueAvanceUnPas(xA, xB, vB, dt):\n",
    "    dxB = dt * np.array(vB)\n",
    "    nouvelle_xB = xB + dxB\n",
    "    F = forceGravitationnelle(xA, xB, mS, mT)\n",
    "    aB = F / mT\n",
    "    nouvelle_vB = vB + dt * aB\n",
    "    return nouvelle_xB, nouvelle_vB\n",
    "d0=149596006000\n",
    "v0=29.78e+3\n",
    "xS=np.array([0.0,0.0,0.0])\n",
    "xT=np.array([d0,0.0,0.0])\n",
    "vT=np.array([0.0,v0,0.0])\n",
    "annee=365.25 * 24 * 3600\n",
    "dT=100.0\n",
    "fois=round(annee/dT)\n",
    "print(\"il faut\",fois,\"fois\")\n",
    "for i in range(int(fois)):\n",
    "    xT,vT=champStatiqueAvanceUnPas(xS, xT, vT, dT)\n",
    "print (\"après un an la position de la Terre est\",xT,\"et la viteness est \",vT)"
   ]
  },
  {
   "cell_type": "markdown",
   "id": "broadband-athens",
   "metadata": {},
   "source": [
    "_(vos remarques sur le choix de dt ici pour Q17)_"
   ]
  },
  {
   "cell_type": "markdown",
   "id": "noted-actor",
   "metadata": {},
   "source": [
    "[Q18] Visualiser l'évolution temporelle de la position de la Terre.\n",
    " * Remarques : Il est convenable de pouvour visualiser ce que fait le calcul. À cette fin, vous pouvez utiliser la fonction `scatter()` de `matplotlib.pyplot`. Astuce : au lieu de dessiner un point par pas, vous pourriez dessiner un point par 1000 pas (ou 100, ou $10^4$, ou etc, en fonction de sa durée) ; [l'opération modulo](https://fr.wikipedia.org/wiki/Modulo_(op%C3%A9ration)) (`%`, le reste de la division d'entiers) pourrait vous aider. Vous pouvez ainsi utiliser un pas court sans stocker un nombre excessif de points."
   ]
  },
  {
   "cell_type": "code",
   "execution_count": 46,
   "id": "muslim-factor",
   "metadata": {},
   "outputs": [
    {
     "data": {
      "image/png": "[encoded data removed]",
      "text/plain": [
       "<Figure size 640x480 with 1 Axes>"
      ]
     },
     "metadata": {},
     "output_type": "display_data"
    }
   ],
   "source": [
    "# [votre code ici pour Q18]\n",
    "import numpy as np\n",
    "import math\n",
    "import matplotlib.pyplot as plt\n",
    "\n",
    "mS=1.9885e+30\n",
    "mT = 5.972e+24\n",
    "def forceGravitationnelle(xA, xB, mA, mB):\n",
    "    G=6.674e-11\n",
    "    vecteur_AB=xB-xA\n",
    "    vecteur_ABMagCarre = vecteur_AB.dot(vecteur_AB)\n",
    "    vecteur_ABMag = math.sqrt(vecteur_ABMagCarre)\n",
    "    vecteur_ABUnitaire = vecteur_AB / vecteur_ABMag\n",
    "    F= (-G*mA*mB / vecteur_ABMagCarre)*vecteur_ABUnitaire\n",
    "    return F\n",
    "\n",
    "def champStatiqueAvanceUnPas(xA, xB, vB, dt):\n",
    "    dxB = dt * np.array(vB)\n",
    "    nouvelle_xB = xB + dxB\n",
    "    F = forceGravitationnelle(xA, xB, mS, mT)\n",
    "    aB = F / mT\n",
    "    nouvelle_vB = vB + dt * aB\n",
    "    return nouvelle_xB, nouvelle_vB\n",
    "d0=149596006e+3\n",
    "v0=29.78e+3\n",
    "xS=np.array([0.0,0.0,0.0])\n",
    "xT=np.array([d0,0.0,0.0])\n",
    "vT=np.array([0.0,v0,0.0])\n",
    "annee=365.25 * 24 * 3600\n",
    "dT=100.0\n",
    "fois = round(annee/dT)\n",
    "pointswant = 100 \n",
    "pasParPoints = round(fois / pointswant)\n",
    "x_T=[]\n",
    "y_T=[]\n",
    "for i in range(int(fois)+1):\n",
    "    xT,vT=champStatiqueAvanceUnPas(xS, xT, vT, dT)\n",
    "    if i % pasParPoints == 0:\n",
    "        x_T += [xT[0]/d0]\n",
    "        y_T += [xT[1]/d0]\n",
    "plt.scatter(x_T, y_T,label=\"dt = 100s\")\n",
    "plt.title(\"Evolution avec un pas de 100s\")\n",
    "plt.xlabel(\"x [m]\")\n",
    "plt.ylabel(\"y [m]\")\n",
    "plt.show()\n"
   ]
  },
  {
   "cell_type": "markdown",
   "id": "eleven-rolling",
   "metadata": {},
   "source": [
    "Questions à considérer, muni de votre outil de simulation numérique :\n",
    "\n",
    "+ [Q19] Est-ce que la Terre est revenue à son point de départ après un an ? (À quelle précision ?)\n",
    "+ [Q20] Que se passe-t-il si le pas $dt$ varie ? (Vous pouvez tenter, par exemple, {10000s, 1000s, 100s, 10s, 1s} ou {1jour, 1heure, 1min, 1s}. Attention, le calcul pourrait devenir long dans le cas d'un pas court.)\n",
    "+ [Q21] Que se passe-t-il après plusieurs cycles, par exemple au fil de 10 ans, ou de 100 ans ?"
   ]
  },
  {
   "cell_type": "markdown",
   "id": "political-bracket",
   "metadata": {},
   "source": [
    "_(vos observations ici pour les Q19-21)_\n",
    "Q19 Non\n",
    "Q20 si delta t dimunue, la precision du calcul augmente. Finalement cela se rapprochera davantage de la réalite.\n",
    "Q21 Plus le nombre de cycles augumente, plus le tracé se rapporche de l'orbite réelle"
   ]
  },
  {
   "cell_type": "markdown",
   "id": "bottom-principle",
   "metadata": {},
   "source": [
    "---"
   ]
  },
  {
   "cell_type": "markdown",
   "id": "secret-clearing",
   "metadata": {},
   "source": [
    "# 3. Un système à deux corps [s'il vous reste le temps nécessaire]\n",
    "\n",
    "Dans la réalité, le Soleil n'est pas fixe et immobile (troisième loi de Newton). Parce que la force subie par la Terre dépend de la position du Soleil, ce déplacement changera l'évolution subséquente du système. Son comportement devient plus complexe : le mouvement de la Terre dépend du mouvement du Soleil, qui dépend du mouvement de la Terre.\n",
    "\n",
    "Nous adapterons notre simulation numérique pour qu'elle tienne compte du mouvement du Soleil. Pour ce faire, nous retenons la même approche itérative ; la différence, c'est qu'il faut maintenant suivre davantage de paramètres.\n",
    "\n",
    "[Q22] D'abord, écrire une nouvelle fonction (prennant en entrée les valeurs actuelles de `xA`, `xB`, `vA`, `vB` et un pas `dt`) qui fait avancer les positions et les vitesse d'un pas, et renvoie les nouvelles valeurs.\n",
    "Vous pouvez utiliser la trame suivante :\n",
    "\n",
    "```python\n",
    "def systemeDeuxCorpsAvanceUnPas(xA, xB, vA, vB, dt):\n",
    "    # votre code ici\n",
    "    nouvelle_xA = [...]\n",
    "    nouvelle_vA = [...]\n",
    "    nouvelle_xB = [...]\n",
    "    nouvelle_vB = [...]\n",
    "    return nouvelle_xA, nouvelle_vA, nouvelle_xB, nouvelle_vB\n",
    "```"
   ]
  },
  {
   "cell_type": "code",
   "execution_count": 43,
   "id": "minimal-image",
   "metadata": {},
   "outputs": [],
   "source": [
    "# [votre code ici pour Q22]\n",
    "def systemeDeuxCorpsAvanceUnPas(xA, xB, vA, vB, dt):\n",
    "    dxA = dt * numpy.array(vA)\n",
    "    nouvelle_xA = xA + dxA\n",
    "    dxB = dt * numpy.array(vB)\n",
    "    nouvelle_xB = xB + dxB\n",
    "    forceA = forceGravitationnelle(xB, xA, mT, mS)\n",
    "    forceB = forceGravitationnelle(xA, xB, mS, mT)\n",
    "    accA = forceA / mS\n",
    "    accB = forceB / mT\n",
    "    nouvelle_vA = vA + dt * accA\n",
    "    nouvelle_vB = vB + dt * accB\n",
    "    return nouvelle_xA, nouvelle_vA, nouvelle_xB, nouvelle_vB"
   ]
  },
  {
   "cell_type": "markdown",
   "id": "later-reporter",
   "metadata": {},
   "source": [
    "[Q23] Choisir les valeurs initiales des paramètres pour que le centre de masse (barycentre) du système soit (i) à l'origine, et (ii) au repos, c'est-à-dire de vitesse nulle. (Ces choix n'ont pas de signification physique, dans un sens fondamental, mais ils rendront plus simple le modèle du système.) Comme auparavant, on veut que la distance Terre-Soleil à $t=0$ soit $d_0$ et la vitesse relative à $t=0$ soit $v_0$."
   ]
  },
  {
   "cell_type": "markdown",
   "id": "incorporated-dictionary",
   "metadata": {},
   "source": [
    "_(vos remarques ici sur le choix des valeurs initiales pour Q23)_"
   ]
  },
  {
   "cell_type": "code",
   "execution_count": 48,
   "id": "psychological-eugene",
   "metadata": {},
   "outputs": [
    {
     "name": "stdout",
     "output_type": "stream",
     "text": [
      "Valeurs initiales : x= [1.49595557e+11 0.00000000e+00 0.00000000e+00] m, v= [    0.         29779.91056292     0.        ] m/s\n",
      "pointsGraphiquesSouhaites= 100  and nombrePas= 315576  => pasParPointGraphique= 3156\n",
      "Après 315575 pas, valeurs finales : x= [1.49632730e+11 2.91230859e+08 0.00000000e+00] m, v= [  -57.9730936  29776.12649749     0.        ] m/s\n"
     ]
    },
    {
     "data": {
      "image/png": "[encoded data removed]",
      "text/plain": [
       "<Figure size 640x480 with 1 Axes>"
      ]
     },
     "metadata": {},
     "output_type": "display_data"
    },
    {
     "data": {
      "text/plain": [
       "<matplotlib.legend.Legend at 0x27251d4b3d0>"
      ]
     },
     "execution_count": 48,
     "metadata": {},
     "output_type": "execute_result"
    },
    {
     "data": {
      "image/png": "[encoded data removed]",
      "text/plain": [
       "<Figure size 640x480 with 1 Axes>"
      ]
     },
     "metadata": {},
     "output_type": "display_data"
    }
   ],
   "source": [
    "# [votre code ici pour Q23, à réutiliser ensuite pour Q25-26]\n",
    "import matplotlib.pyplot as plt\n",
    "d0 = 149596006e+3\n",
    "mS=1.9885e+30\n",
    "mT = 5.972e+24\n",
    "dS = -(mT / (mS + mT)) * d0\n",
    "dT  =  (mS / (mS + mT)) * d0\n",
    "v0 = 29.78e+3\n",
    "vS = -(mT / (mS + mT)) * v0\n",
    "vT  =  (mS / (mS + mT)) * v0\n",
    "\n",
    "xS = numpy.array([dS, 0.0, 0.0])\n",
    "xT  = numpy.array([dT,  0.0, 0.0])\n",
    "vS = numpy.array([0.0, vS, 0.0])\n",
    "vT  = numpy.array([0.0, vT,  0.0])\n",
    "dt = 100.0 \n",
    "\n",
    "print(\"Valeurs initiales : x=\", xT, \"m, v=\", vT, \"m/s\")\n",
    "An = 365.25 * 24 * 3600\n",
    "fois = round(An / dt)\n",
    "\n",
    "# Préparons le graphique :\n",
    "pointswant = 100\n",
    "pasParPoint = round(fois / pointswant)\n",
    "print(\"pointsGraphiquesSouhaites=\",pointswant,\" and nombrePas=\",fois,\" => pasParPointGraphique=\",pasParPoint)\n",
    "systemeDeuxCorpsVecXA = []\n",
    "systemeDeuxCorpsVecYA = []\n",
    "systemeDeuxCorpsVecXB = []\n",
    "systemeDeuxCorpsVecYB = []\n",
    "\n",
    "for i in range(0, fois) :\n",
    "    xS, vS, xT, vT = systemeDeuxCorpsAvanceUnPas(xS, xT, vS, vT, dt)\n",
    "    if (i % pasParPoint == 0):\n",
    "        systemeDeuxCorpsVecXA += [xS[0]]\n",
    "        systemeDeuxCorpsVecYA += [xS[1]]\n",
    "        systemeDeuxCorpsVecXB += [xT[0]]\n",
    "        systemeDeuxCorpsVecYB += [xT[1]]\n",
    "print(\"Après\", i, \"pas, valeurs finales : x=\", xT, \"m, v=\", vT,\"m/s\")\n",
    "plt.scatter(systemeDeuxCorpsVecXA, systemeDeuxCorpsVecYA,label=\"Soleil, dt = 100s\")\n",
    "plt.scatter(systemeDeuxCorpsVecXB, systemeDeuxCorpsVecYB,label=\"Terre, dt = 100s\")\n",
    "plt.title(\"Evolution avec un pas de 100s (Terre et Soleil)\")\n",
    "plt.xlabel(\"x [m]\")\n",
    "plt.ylabel(\"y [m]\")\n",
    "plt.legend()\n",
    "plt.show()\n",
    "\n",
    "\n",
    "plt.scatter(systemeDeuxCorpsVecXA, systemeDeuxCorpsVecYA,label=\"Soleil, dt = 100s\")\n",
    "plt.title(\"Evolution avec un pas de 100s (Soleil)\")\n",
    "plt.xlabel(\"x [m]\")\n",
    "plt.ylabel(\"y [m]\")\n",
    "plt.legend()"
   ]
  },
  {
   "cell_type": "markdown",
   "id": "complimentary-silicon",
   "metadata": {},
   "source": [
    "[Q24] Ensuite, utiliser cette fonction pour calculer l'évolution du système. \n",
    "\n",
    "Questions à considérer :\n",
    "\n",
    "+ [Q25] Est-ce que le système se comporte différemment du modèle simplifié ci-dessus (d'un Soleil fixe) ? Pourquoi ?\n",
    "+ [Q26] Est-ce que la position et la vitesse du centre de masse sont censées varier au fil du temps ? Est-ce le cas en pratique, selon votre modèle ?"
   ]
  },
  {
   "cell_type": "markdown",
   "id": "reflected-absorption",
   "metadata": {},
   "source": [
    "_(vos remarques ici pour Q25)_\n",
    "Dans ce modèle, les mouvements du Soleil et de la Terre s'influencent mutuellement. Ainsi, le Soleil se déplace également sous l'effet de la gravité de la Terre, ce qui diffère du modèle simplifié où le Soleil est supposé fixe. Dans ce modèle simplifié, la position du Soleil est fixe et seule la trajectoire de la Terre est prise en compte, tandis que dans ce modèle, la trajectoire du Soleil affecte également le mouvement de la Terre, ce qui entraîne des trajectoires plus complexes."
   ]
  },
  {
   "cell_type": "markdown",
   "id": "minute-bouquet",
   "metadata": {},
   "source": [
    "_(vos remarques ici pour Q26)_\n",
    "La vitesse du centre de masse devrait être nulle, à moins qu'il n'y ait des forces extérieures ou que le moment linéaire total du système change. Dans ce modèle, la position du centre de masse évolue au fil du temps, principalement en raison des interactions gravitationnelles entre le Soleil et la Terre. Bien que, dans un système idéal (si celui-ci est isolé), la position du centre de masse devrait rester constante, dans notre simulation, où nous prenons en compte les interactions entre le Soleil et la Terre, la trajectoire du centre de masse évolue au fil du temps."
   ]
  },
  {
   "cell_type": "code",
   "execution_count": 30,
   "id": "novel-maldives",
   "metadata": {},
   "outputs": [],
   "source": [
    "# [votre code ici pour Q25-26, le cas échéant]"
   ]
  },
  {
   "cell_type": "markdown",
   "id": "legal-color",
   "metadata": {},
   "source": [
    "---"
   ]
  },
  {
   "cell_type": "markdown",
   "id": "precise-pipeline",
   "metadata": {},
   "source": [
    "# Pour aller plus loin\n",
    "\n",
    "Ci-dessous, quelques idées qui pourrait vous inspirer. La liste n'est pas exhaustive !\n",
    "\n",
    "## Idées pour la partie 1 :\n",
    "\n",
    "### Appliquer la troisième loi de Kepler à d'autres planètes ; incertitudes\n",
    "\n",
    "Les données du fichier ```nasa-exoplanetes.csv``` concernent les planètes suivantes :\n",
    "11 Com b,\n",
    "11 UMi b,\n",
    "14 And b,\n",
    "14 Her b,\n",
    "16 Cyg B b,\n",
    "18 Del b,\n",
    "24 Boo b,\n",
    "24 Sex b,\n",
    "24 Sex c,\n",
    "2MASS J19383260+4603591 b,\n",
    "30 Ari B b,\n",
    "4 UMa b,\n",
    "42 Dra b,\n",
    "47 UMa b,\n",
    "47 UMa c,\n",
    "51 Peg b,\n",
    "55 Cnc b,\n",
    "55 Cnc c.\n",
    "\n",
    "Vous pouvez tester sa validité avec d'autres planètes de la base de données de la NASA.\n",
    "Attention : elle comprend énormément d'informations sur des milliers de planètes\n",
    "(et parfois plusieurs mesures par planète).\n",
    "Il n'est pas conseillé de traiter un grand nombre de planètes (pour qu'il reste un projet de physique et non d'informatique).\n",
    "Par contre, il pourrait être intéressant de tester la loi de Kepler dans des conditions\n",
    "extrèmes (p.ex. des planètes très massives, ou très loin de leurs astres, ou dans des systèmes à plusieurs astres).\n",
    "\n",
    "La plupart des mesures pertinantes ont des incertitudes associées.\n",
    "Pouvez-vous les inclure dans votre graphique, et/ou dans votre ajustement ?\n",
    "\n",
    "## Idées pour les parties 2+3 :\n",
    "\n",
    "### La méthode de Varlet\n",
    "\n",
    "L'algorithme itératif proposé dans la partie 2.4 correspond, en effet, à la méthode d'Euler. Il souffre des imprécisions si le pas dt n'est pas très court. Un autre algorithme, plus précis, est [la méthode de Verlet](https://fr.wikipedia.org/wiki/Int%C3%A9gration_de_Verlet). Au deuxième ordre, on peut l'exprimer sous la forme suivante :\n",
    "\n",
    "$$\\vec{v}_B(t + dt) = \\vec{v}_B(t) + \\vec{a}_B(t) dt$$\n",
    "$$\\vec{x}_B(t + dt) = \\vec{x}_B(t) + \\left[ \\frac{\\vec{v}_B(t) + \\vec{v}_B(t+dt)}{2} \\right] dt$$\n",
    "\n",
    "Vous pouvez mettre en comparaison la précision des deux méthodes (d'Euler et de Verlet) avec des pas grossiers, raisonnables, et fins. Les résultats, sont-ils cohérents ? Sous quelles conditions les méthodes sont-elles fiables ?\n",
    "\n",
    "### Un modèle plus réaliste du système Terre-Soleil ; vérifications numériques de la troisième loi de Kepler (via la simulation des parties 2-3)\n",
    "\n",
    "Les valeurs initiales du rayon et de la vitesse de la Terre (proposées dans les sections 2.3 et 2.4) ont été calculées tel qu'on obtienne une orbite quasi-circulaire ; elles correspondent bien aux valeurs expérimentales du demi-grand axe $a$ et de la vitesse _moyenne_ de [l'orbite](https://fr.wikipedia.org/wiki/Orbite_de_la_Terre). Cependant, dans la réalité l'orbite n'est pas strictement circulaire ; vous pouvez simuler l'orbite avec de valeurs plus précises de l'orbite de la Terre, ou d'une autre planète ayant une excentricité plus importante. Que vaut la période selon votre simulation ? Est-ce que cette valeur valide la troisième loi de Kepler ?\n",
    "\n",
    "### Un système à n corps\n",
    "\n",
    "Dans la partie 3, nous avons étudié un système à deux corps (le Soleil et la Terre). Pouvez-vous généraliser l'algorithme à plusieurs corps ? (Par exemple : le Soleil plus l'ensemble des planètes du [système solaire](https://fr.wikipedia.org/wiki/Syst%C3%A8me_solaire)). On garde l'approche itérative de base, mais à chaque itération il faudra calculer toutes les forces par paire (par exemple, la force Soleil-Terre, la force Soleil-Mars, la force Terre-Mars, ...) puis pour chaque corps calculer la somme vectorielle des forces (la résultante), puis en déduire l'accéleration, puis mettre à jour la position et la vitesse. L'orbite de la Terre, est-elle sensible à la présence des autres planètes ?\n",
    "\n",
    "### D'autres systèmes\n",
    "\n",
    "À l'aide de [la base de données NASA](https://exoplanetarchive.ipac.caltech.edu/cgi-bin/TblView/nph-tblView?app=ExoTbls&config=PS), vous pouvez simuler l'évolution d'un système astre-exoplanète. Se comporte-il d'une manière similaire à notre système solaire ? Y-a-t'il des différences ?"
   ]
  },
  {
   "cell_type": "markdown",
   "id": "humanitarian-reminder",
   "metadata": {},
   "source": [
    "----\n",
    "(Image du planétaire : Birmingham Museums Trust, via [Wikimedia Commons](https://en.wikipedia.org/wiki/File:Thinktank_Birmingham_-_object_1956S00682.00001(1).jpg))"
   ]
  }
 ],
 "metadata": {
  "kernelspec": {
   "display_name": "py3-9-13",
   "language": "python",
   "name": "conda-env-py3-9-13-py"
  },
  "language_info": {
   "codemirror_mode": {
    "name": "ipython",
    "version": 3
   },
   "file_extension": ".py",
   "mimetype": "text/x-python",
   "name": "python",
   "nbconvert_exporter": "python",
   "pygments_lexer": "ipython3",
   "version": "3.9.13"
  }
 },
 "nbformat": 4,
 "nbformat_minor": 5
}
